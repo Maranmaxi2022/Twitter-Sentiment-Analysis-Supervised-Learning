{
 "cells": [
  {
   "metadata": {},
   "cell_type": "markdown",
   "source": "# Twitter Sentiment Analysis"
  },
  {
   "cell_type": "markdown",
   "metadata": {},
   "source": [
    "## Step 1: Importing the Required Libraries\n",
    "\n",
    "Before we start analyzing Twitter sentiment, we need to import several essential Python libraries for:\n",
    "- **Data Handling:** `pandas` for structured data manipulation.\n",
    "- **Data Visualization:** `matplotlib` and `seaborn` for visualizing tweet statistics.\n",
    "- **Text Processing:** `nltk` and `TextBlob` for tokenization, stopword removal, lemmatization, and basic NLP tasks.\n",
    "- **Machine Learning:** `scikit-learn` for feature extraction (TF-IDF, CountVectorizer), classification (Naïve Bayes), and evaluation metrics.\n",
    "- **Pipeline Visualization:** `graphviz` to visualize the ML workflow.\n",
    "\n",
    "Additionally, we will **download important NLTK resources** such as stopwords, tokenizers, and corpora to process tweets effectively."
   ]
  },
  {
   "metadata": {
    "ExecuteTime": {
     "end_time": "2025-03-08T14:46:58.973631Z",
     "start_time": "2025-03-08T14:46:58.968601Z"
    }
   },
   "cell_type": "code",
   "source": [
    "# Import required libraries\n",
    "import pandas as pd\n",
    "import matplotlib.pyplot as plt\n",
    "import seaborn as sns\n",
    "import re\n",
    "import nltk\n",
    "\n",
    "from textblob import TextBlob\n",
    "from nltk.corpus import stopwords\n",
    "from nltk.stem.wordnet import WordNetLemmatizer\n",
    "from sklearn.feature_extraction.text import CountVectorizer, TfidfTransformer\n",
    "from sklearn.naive_bayes import MultinomialNB\n",
    "from sklearn.pipeline import Pipeline\n",
    "from sklearn.metrics import confusion_matrix, classification_report, accuracy_score\n",
    "from sklearn import set_config\n",
    "from graphviz import Digraph\n",
    "\n",
    "# Fix SSL certificate issue for downloading resources (for some systems)\n",
    "import ssl\n",
    "try:\n",
    "    _create_unverified_https_context = ssl._create_unverified_context\n",
    "except AttributeError:\n",
    "    pass\n",
    "else:\n",
    "    ssl._create_default_https_context = _create_unverified_https_context\n",
    "\n",
    "# Download necessary NLTK resources\n",
    "nltk.download('punkt')  # Tokenization\n",
    "nltk.download('stopwords')  # Stopword removal\n",
    "nltk.download('wordnet')  # Lemmatization\n",
    "nltk.download('averaged_perceptron_tagger')  # POS tagging\n",
    "nltk.download('brown')  # Corpus for NLP tasks\n",
    "nltk.download('conll2000')  # Corpus for NLP tasks\n",
    "nltk.download('movie_reviews') # Corpus for sentiment analysis\n",
    "\n",
    "print(\"All necessary libraries and NLTK resources have been successfully loaded!\")"
   ],
   "outputs": [
    {
     "name": "stdout",
     "output_type": "stream",
     "text": [
      "All necessary libraries and NLTK resources have been successfully loaded!\n"
     ]
    },
    {
     "name": "stderr",
     "output_type": "stream",
     "text": [
      "[nltk_data] Downloading package punkt to /Users/maranmaxi/nltk_data...\n",
      "[nltk_data]   Package punkt is already up-to-date!\n",
      "[nltk_data] Downloading package stopwords to\n",
      "[nltk_data]     /Users/maranmaxi/nltk_data...\n",
      "[nltk_data]   Package stopwords is already up-to-date!\n",
      "[nltk_data] Downloading package wordnet to\n",
      "[nltk_data]     /Users/maranmaxi/nltk_data...\n",
      "[nltk_data]   Package wordnet is already up-to-date!\n",
      "[nltk_data] Downloading package averaged_perceptron_tagger to\n",
      "[nltk_data]     /Users/maranmaxi/nltk_data...\n",
      "[nltk_data]   Package averaged_perceptron_tagger is already up-to-\n",
      "[nltk_data]       date!\n",
      "[nltk_data] Downloading package brown to /Users/maranmaxi/nltk_data...\n",
      "[nltk_data]   Package brown is already up-to-date!\n",
      "[nltk_data] Downloading package conll2000 to\n",
      "[nltk_data]     /Users/maranmaxi/nltk_data...\n",
      "[nltk_data]   Package conll2000 is already up-to-date!\n",
      "[nltk_data] Downloading package movie_reviews to\n",
      "[nltk_data]     /Users/maranmaxi/nltk_data...\n",
      "[nltk_data]   Package movie_reviews is already up-to-date!\n"
     ]
    }
   ],
   "execution_count": 27
  },
  {
   "metadata": {},
   "cell_type": "markdown",
   "source": [
    "## Step 2: Reading the Data\n",
    "\n",
    "To perform sentiment analysis, we need to load and inspect the dataset. The dataset contains:\n",
    "- **Train Data:** Labeled tweets used for training the model.\n",
    "- **Test Data:** Unlabeled tweets for making predictions.\n",
    "\n",
    "Each dataset is stored in a **CSV file**. We will:\n",
    "1. Define the file paths.\n",
    "2. Load the datasets using `pandas.read_csv()`.\n",
    "3. Display a preview of the data to verify it was loaded correctly.\n"
   ]
  },
  {
   "metadata": {
    "ExecuteTime": {
     "end_time": "2025-03-08T14:47:01.972350Z",
     "start_time": "2025-03-08T14:47:01.966557Z"
    }
   },
   "cell_type": "code",
   "source": [
    "# Define file paths for the datasets\n",
    "train_path = \"/Users/maranmaxi/Downloads/Twitter Sentiment Analysis/Data/train_tweets.csv\"\n",
    "test_path = \"/Users/maranmaxi/Downloads/Twitter Sentiment Analysis/Data/test_tweets.csv\""
   ],
   "outputs": [],
   "execution_count": 28
  },
  {
   "metadata": {
    "ExecuteTime": {
     "end_time": "2025-03-08T14:47:03.449455Z",
     "start_time": "2025-03-08T14:47:03.348246Z"
    }
   },
   "cell_type": "code",
   "source": [
    "# Load CSV files into pandas DataFrames\n",
    "train_tweets = pd.read_csv(train_path)\n",
    "test_tweets = pd.read_csv(test_path)\n",
    "\n",
    "# Display first few rows to verify the data\n",
    "print(\"Training Data Sample:\")\n",
    "print(train_tweets.head())\n",
    "\n",
    "print(\"\\nTest Data Sample:\")\n",
    "print(test_tweets.head())\n"
   ],
   "outputs": [
    {
     "name": "stdout",
     "output_type": "stream",
     "text": [
      "Training Data Sample:\n",
      "   id  label                                              tweet\n",
      "0   1      0   @user when a father is dysfunctional and is s...\n",
      "1   2      0  @user @user thanks for #lyft credit i can't us...\n",
      "2   3      0                                bihday your majesty\n",
      "3   4      0  #model   i love u take with u all the time in ...\n",
      "4   5      0             factsguide: society now    #motivation\n",
      "\n",
      "Test Data Sample:\n",
      "      id                                              tweet\n",
      "0  31963  #studiolife #aislife #requires #passion #dedic...\n",
      "1  31964   @user #white #supremacists want everyone to s...\n",
      "2  31965  safe ways to heal your #acne!!    #altwaystohe...\n",
      "3  31966  is the hp and the cursed child book up for res...\n",
      "4  31967    3rd #bihday to my amazing, hilarious #nephew...\n"
     ]
    }
   ],
   "execution_count": 29
  },
  {
   "metadata": {},
   "cell_type": "markdown",
   "source": [
    "### Selecting Relevant Columns\n",
    "\n",
    "To ensure consistency and avoid unnecessary data, we extract only the columns needed for analysis:\n",
    "- **Training Data**: We retain the `label` (sentiment) and `tweet` text.\n",
    "- **Test Data**: Since test data is unlabeled, we keep only the `tweet` column.\n"
   ]
  },
  {
   "metadata": {
    "ExecuteTime": {
     "end_time": "2025-03-08T14:47:06.513421Z",
     "start_time": "2025-03-08T14:47:06.490506Z"
    }
   },
   "cell_type": "code",
   "source": [
    "# Selecting only the required columns\n",
    "train_tweets = train_tweets[['label', 'tweet']]\n",
    "test = test_tweets['tweet']\n",
    "\n",
    "# Display dataset shape after column selection\n",
    "print(f\"Training Data Shape: {train_tweets.shape}\")\n",
    "print(f\"Test Data Shape: {test.shape}\")\n"
   ],
   "outputs": [
    {
     "name": "stdout",
     "output_type": "stream",
     "text": [
      "Training Data Shape: (31962, 2)\n",
      "Test Data Shape: (17197,)\n"
     ]
    }
   ],
   "execution_count": 30
  },
  {
   "metadata": {},
   "cell_type": "markdown",
   "source": [
    "## Step 3: Exploratory Data Analysis (EDA)\n",
    "\n",
    "Before preprocessing and training our sentiment analysis model, it's essential to explore the dataset. **EDA helps us understand patterns, potential biases, and key characteristics of the data.**\n",
    "\n",
    "### Key Areas of Analysis:\n",
    "1. **Tweet Length Distribution** – Analyzing the average word length per sentiment class.\n",
    "2. **Class Distribution** – Checking whether the dataset is balanced or skewed.\n",
    "\n",
    "Visualizing these patterns helps us determine if we need additional preprocessing steps (e.g., balancing classes, removing outliers).\n"
   ]
  },
  {
   "metadata": {
    "ExecuteTime": {
     "end_time": "2025-03-08T14:47:11.469653Z",
     "start_time": "2025-03-08T14:47:11.140783Z"
    }
   },
   "cell_type": "code",
   "source": [
    "# Calculate tweet length\n",
    "train_tweets['length'] = train_tweets['tweet'].apply(len)\n",
    "\n",
    "# Create a bar plot for average word length by label\n",
    "plt.figure(figsize=(6,4))\n",
    "sns.barplot(x='label', y='length', data=train_tweets, palette='coolwarm')\n",
    "\n",
    "# Customize plot\n",
    "plt.title('Average Tweet Length by Sentiment Label')\n",
    "plt.xlabel('Sentiment Label (0 = Negative, 1 = Positive)')\n",
    "plt.ylabel('Average Tweet Length')\n",
    "plt.show()\n"
   ],
   "outputs": [
    {
     "name": "stderr",
     "output_type": "stream",
     "text": [
      "/var/folders/py/z5lnlzrs5f51g878kw89h44m0000gp/T/ipykernel_19383/3549722852.py:6: FutureWarning: \n",
      "\n",
      "Passing `palette` without assigning `hue` is deprecated and will be removed in v0.14.0. Assign the `x` variable to `hue` and set `legend=False` for the same effect.\n",
      "\n",
      "  sns.barplot(x='label', y='length', data=train_tweets, palette='coolwarm')\n"
     ]
    },
    {
     "data": {
      "text/plain": [
       "<Figure size 600x400 with 1 Axes>"
      ],
      "image/png": "[encoded data removed]"
     },
     "metadata": {},
     "output_type": "display_data"
    }
   ],
   "execution_count": 31
  },
  {
   "metadata": {},
   "cell_type": "markdown",
   "source": [
    "### Why This Is Important?\n",
    "- Helps determine if **tweet length varies by sentiment** (e.g., do negative tweets tend to be longer?).\n",
    "- If there’s a **significant length difference**, we may consider trimming or padding tweets for consistency.\n"
   ]
  },
  {
   "metadata": {
    "ExecuteTime": {
     "end_time": "2025-03-08T14:47:14.002942Z",
     "start_time": "2025-03-08T14:47:13.910298Z"
    }
   },
   "cell_type": "code",
   "source": [
    "# Plot the count of each sentiment label\n",
    "plt.figure(figsize=(5,4))\n",
    "sns.countplot(x='label', data=train_tweets, palette='pastel')\n",
    "\n",
    "# Customize plot\n",
    "plt.title('Sentiment Label Distribution')\n",
    "plt.xlabel('Sentiment Label (0 = Negative, 1 = Positive)')\n",
    "plt.ylabel('Count')\n",
    "plt.show()\n"
   ],
   "outputs": [
    {
     "name": "stderr",
     "output_type": "stream",
     "text": [
      "/var/folders/py/z5lnlzrs5f51g878kw89h44m0000gp/T/ipykernel_19383/2970466048.py:3: FutureWarning: \n",
      "\n",
      "Passing `palette` without assigning `hue` is deprecated and will be removed in v0.14.0. Assign the `x` variable to `hue` and set `legend=False` for the same effect.\n",
      "\n",
      "  sns.countplot(x='label', data=train_tweets, palette='pastel')\n"
     ]
    },
    {
     "data": {
      "text/plain": [
       "<Figure size 500x400 with 1 Axes>"
      ],
      "image/png": "[encoded data removed]"
     },
     "metadata": {},
     "output_type": "display_data"
    }
   ],
   "execution_count": 32
  },
  {
   "metadata": {},
   "cell_type": "markdown",
   "source": [
    "### Why This Is Important?\n",
    "- Helps us determine if the dataset is **balanced or imbalanced**.\n",
    "- If one class is overrepresented, we might need **resampling techniques** (e.g., oversampling, undersampling) to prevent bias in the model."
   ]
  },
  {
   "metadata": {},
   "cell_type": "markdown",
   "source": [
    "## Step 4: Feature Engineering\n",
    "\n",
    "In this stage, we transform raw textual data into meaningful features that machine learning models can understand. Common steps include:\n",
    "\n",
    "- **Tokenization**: Splitting text into individual words or tokens.  \n",
    "- **Removing Stopwords**: Filtering out common words (e.g., *the*, *and*, *but*) that don’t contribute much to sentiment.  \n",
    "- **Lemmatization**: Converting words to their base form (e.g., *running* → *run*).  \n",
    "- **Vectorization**: Converting text into numerical vectors via methods like **TF-IDF** or **Bag-of-Words**.\n",
    "\n",
    "These transformations are vital for preparing the data so a machine learning model can effectively learn patterns and make accurate predictions."
   ]
  },
  {
   "metadata": {},
   "cell_type": "markdown",
   "source": [
    "### Tweet Preprocessing Overview\n",
    "\n",
    "Before we feed tweets into a model, we must clean and standardize the text. Our preprocessing steps include:\n",
    "\n",
    "1. **Tokenization** – Splitting a tweet into individual words.\n",
    "2. **Stopword Removal** – Removing common words (e.g., *the*, *is*, *and*) that don’t add much meaning.\n",
    "3. **Lemmatization** – Converting words to their base form (e.g., *running* → *run*).\n",
    "4. **Removing Mentions & Special Characters** – Eliminating `@user` mentions, hashtags, numbers, and unnecessary symbols.\n",
    "\n",
    "Let's go through each step with examples.\n"
   ]
  },
  {
   "metadata": {
    "ExecuteTime": {
     "end_time": "2025-03-08T14:47:19.403902Z",
     "start_time": "2025-03-08T14:47:19.388341Z"
    }
   },
   "cell_type": "code",
   "source": [
    "# Function to extract words from a tweet using TextBlob\n",
    "def form_sentence(tweet):\n",
    "    tweet_blob = TextBlob(tweet)\n",
    "    return ' '.join(tweet_blob.words)\n",
    "\n",
    "# Example: Tokenizing a tweet\n",
    "print(\"Original Tweet:\", train_tweets['tweet'].iloc[10])\n",
    "print(\"Tokenized Tweet:\", form_sentence(train_tweets['tweet'].iloc[10]))"
   ],
   "outputs": [
    {
     "name": "stdout",
     "output_type": "stream",
     "text": [
      "Original Tweet:  â #ireland consumer price index (mom) climbed from previous 0.2% to 0.5% in may   #blog #silver #gold #forex\n",
      "Tokenized Tweet: â ireland consumer price index mom climbed from previous 0.2 to 0.5 in may blog silver gold forex\n"
     ]
    }
   ],
   "execution_count": 33
  },
  {
   "metadata": {},
   "cell_type": "markdown",
   "source": [
    "### Why Is This Important?\n",
    "\n",
    "Tokenization is the first step in text preprocessing. By breaking down tweets into individual words, we can analyze the text more effectively.\n",
    "\n",
    "- Prepares text for NLP tasks like sentiment analysis.\n",
    "- Helps remove unnecessary symbols and punctuation.\n",
    "- Converts text into a structured format for machine learning.\n"
   ]
  },
  {
   "metadata": {},
   "cell_type": "markdown",
   "source": [
    "### Cleaning Tweets: Removing Stopwords & Special Characters\n",
    "\n",
    "To reduce noise in the dataset, we:\n",
    "- Remove **@user mentions** (common in tweets).\n",
    "- Remove **non-alphabetic characters** (numbers, punctuation).\n",
    "- Filter out **stopwords** (words that don’t contribute to sentiment).\n"
   ]
  },
  {
   "metadata": {
    "ExecuteTime": {
     "end_time": "2025-03-08T14:47:22.147031Z",
     "start_time": "2025-03-08T14:47:22.136853Z"
    }
   },
   "cell_type": "code",
   "source": [
    "from nltk.corpus import stopwords\n",
    "\n",
    "# Function to clean tweets by removing \"user\", special characters, and stopwords\n",
    "def no_user_alpha(tweet):\n",
    "    tweet_list = [ele for ele in tweet.split() if ele != 'user']\n",
    "    clean_tokens = [t for t in tweet_list if re.match(r'[^\\W\\d]*$', t)]\n",
    "    clean_s = ' '.join(clean_tokens)\n",
    "    clean_mess = [word for word in clean_s.split() if word.lower() not in stopwords.words('english')]\n",
    "    return clean_mess\n",
    "\n",
    "# Example usage\n",
    "print(\"Original Tweet:\", train_tweets['tweet'].iloc[10])\n",
    "print(\"Cleaned Tweet:\", no_user_alpha(form_sentence(train_tweets['tweet'].iloc[10])))"
   ],
   "outputs": [
    {
     "name": "stdout",
     "output_type": "stream",
     "text": [
      "Original Tweet:  â #ireland consumer price index (mom) climbed from previous 0.2% to 0.5% in may   #blog #silver #gold #forex\n",
      "Cleaned Tweet: ['ireland', 'consumer', 'price', 'index', 'mom', 'climbed', 'previous', 'may', 'blog', 'silver', 'gold', 'forex']\n"
     ]
    }
   ],
   "execution_count": 34
  },
  {
   "metadata": {},
   "cell_type": "markdown",
   "source": [
    "### Why Is This Important?\n",
    "\n",
    "Removing stopwords and special characters improves text clarity and reduces unnecessary noise in the dataset. This helps models focus on meaningful words that contribute to sentiment classification.\n"
   ]
  },
  {
   "metadata": {},
   "cell_type": "markdown",
   "source": [
    "### Lemmatization: Converting Words to Their Base Forms\n",
    "\n",
    "Lemmatization reduces words to their dictionary root forms. For example:\n",
    "- *running* → *run*\n",
    "- *better* → *good*\n",
    "- *was* → *be*\n",
    "\n",
    "This ensures that different word forms are treated as the same feature.\n"
   ]
  },
  {
   "metadata": {
    "ExecuteTime": {
     "end_time": "2025-03-08T14:47:27.267862Z",
     "start_time": "2025-03-08T14:47:27.261658Z"
    }
   },
   "cell_type": "code",
   "source": [
    "from nltk.stem.wordnet import WordNetLemmatizer\n",
    "\n",
    "# Function to lemmatize words\n",
    "def normalization(tweet_list):\n",
    "    lem = WordNetLemmatizer()\n",
    "    return [lem.lemmatize(word, 'v') for word in tweet_list]\n",
    "\n",
    "# Example\n",
    "tweet_list = \"I was playing with my friends when you called me yesterday\".split()\n",
    "print(\"Lemmatized Words:\", normalization(tweet_list))\n"
   ],
   "outputs": [
    {
     "name": "stdout",
     "output_type": "stream",
     "text": [
      "Lemmatized Words: ['I', 'be', 'play', 'with', 'my', 'friends', 'when', 'you', 'call', 'me', 'yesterday']\n"
     ]
    }
   ],
   "execution_count": 35
  },
  {
   "metadata": {},
   "cell_type": "markdown",
   "source": [
    "### Why Is This Important?\n",
    "\n",
    "Lemmatization improves text classification by:\n",
    "- Reducing redundancy (treats *running* and *run* as the same word).\n",
    "- Standardizing word forms for better model performance.\n",
    "- Ensuring consistency in tokenized text data.\n"
   ]
  },
  {
   "metadata": {
    "ExecuteTime": {
     "end_time": "2025-03-08T14:47:31.864628Z",
     "start_time": "2025-03-08T14:47:31.846780Z"
    }
   },
   "cell_type": "code",
   "source": [
    "# Full text preprocessing function (combining all previous steps)\n",
    "def text_processing(tweet):\n",
    "    def form_sentence(tweet):\n",
    "        tweet_blob = TextBlob(tweet)\n",
    "        return ' '.join(tweet_blob.words)\n",
    "\n",
    "    def no_user_alpha(tweet):\n",
    "        tweet_list = [ele for ele in tweet.split() if ele != 'user']\n",
    "        clean_tokens = [t for t in tweet_list if re.match(r'[^\\W\\d]*$', t)]\n",
    "        clean_s = ' '.join(clean_tokens)\n",
    "        clean_mess = [word for word in clean_s.split() if word.lower() not in stopwords.words('english')]\n",
    "        return clean_mess\n",
    "\n",
    "    def normalization(tweet_list):\n",
    "        lem = WordNetLemmatizer()\n",
    "        return [lem.lemmatize(word, 'v') for word in tweet_list]\n",
    "\n",
    "    return normalization(no_user_alpha(form_sentence(tweet)))\n"
   ],
   "outputs": [],
   "execution_count": 36
  },
  {
   "cell_type": "code",
   "metadata": {
    "ExecuteTime": {
     "end_time": "2025-03-08T14:48:02.170752Z",
     "start_time": "2025-03-08T14:47:34.132399Z"
    }
   },
   "source": [
    "# Apply the text processing function to both datasets\n",
    "train_tweets['tweet_list'] = train_tweets['tweet'].apply(text_processing)\n",
    "test_tweets['tweet_list'] = test_tweets['tweet'].apply(text_processing)"
   ],
   "outputs": [],
   "execution_count": 37
  },
  {
   "cell_type": "code",
   "metadata": {
    "ExecuteTime": {
     "end_time": "2025-03-08T14:48:04.289661Z",
     "start_time": "2025-03-08T14:48:04.278079Z"
    }
   },
   "source": [
    "# Display processed tweets\n",
    "train_tweets[train_tweets['label']==1].drop('tweet',axis=1).head()"
   ],
   "outputs": [
    {
     "data": {
      "text/plain": [
       "    label  length                                         tweet_list\n",
       "13      1      74  [cnn, call, michigan, middle, school, wall, ch...\n",
       "14      1     101  [comment, australia, opkillingbay, seashepherd...\n",
       "17      1      22                                   [retweet, agree]\n",
       "23      1      47                         [lumpy, say, prove, lumpy]\n",
       "34      1     104  [unbelievable, century, need, something, like,..."
      ],
      "text/html": [
       "<div>\n",
       "<style scoped>\n",
       "    .dataframe tbody tr th:only-of-type {\n",
       "        vertical-align: middle;\n",
       "    }\n",
       "\n",
       "    .dataframe tbody tr th {\n",
       "        vertical-align: top;\n",
       "    }\n",
       "\n",
       "    .dataframe thead th {\n",
       "        text-align: right;\n",
       "    }\n",
       "</style>\n",
       "<table border=\"1\" class=\"dataframe\">\n",
       "  <thead>\n",
       "    <tr style=\"text-align: right;\">\n",
       "      <th></th>\n",
       "      <th>label</th>\n",
       "      <th>length</th>\n",
       "      <th>tweet_list</th>\n",
       "    </tr>\n",
       "  </thead>\n",
       "  <tbody>\n",
       "    <tr>\n",
       "      <th>13</th>\n",
       "      <td>1</td>\n",
       "      <td>74</td>\n",
       "      <td>[cnn, call, michigan, middle, school, wall, ch...</td>\n",
       "    </tr>\n",
       "    <tr>\n",
       "      <th>14</th>\n",
       "      <td>1</td>\n",
       "      <td>101</td>\n",
       "      <td>[comment, australia, opkillingbay, seashepherd...</td>\n",
       "    </tr>\n",
       "    <tr>\n",
       "      <th>17</th>\n",
       "      <td>1</td>\n",
       "      <td>22</td>\n",
       "      <td>[retweet, agree]</td>\n",
       "    </tr>\n",
       "    <tr>\n",
       "      <th>23</th>\n",
       "      <td>1</td>\n",
       "      <td>47</td>\n",
       "      <td>[lumpy, say, prove, lumpy]</td>\n",
       "    </tr>\n",
       "    <tr>\n",
       "      <th>34</th>\n",
       "      <td>1</td>\n",
       "      <td>104</td>\n",
       "      <td>[unbelievable, century, need, something, like,...</td>\n",
       "    </tr>\n",
       "  </tbody>\n",
       "</table>\n",
       "</div>"
      ]
     },
     "execution_count": 38,
     "metadata": {},
     "output_type": "execute_result"
    }
   ],
   "execution_count": 38
  },
  {
   "metadata": {},
   "cell_type": "markdown",
   "source": [
    "## Step 5: Model Selection and Setup\n",
    "\n",
    "Now that we have preprocessed the tweets, it's time to build a **machine learning model** to classify sentiment.\n",
    "\n",
    "### **Model Choice: Naïve Bayes**\n",
    "For text classification, a **Naïve Bayes (MultinomialNB) model** is commonly used because:\n",
    "- It performs well with **high-dimensional text data**.\n",
    "- It assumes **word independence**, which is reasonable for sentiment analysis.\n",
    "- It is computationally efficient and works well with **TF-IDF and Bag-of-Words** feature extraction.\n",
    "\n",
    "Our approach includes:\n",
    "1. Extracting features (text representation using **TF-IDF**).\n",
    "2. Splitting the dataset into **training and test sets**.\n",
    "3. Building a **Scikit-learn pipeline** to streamline preprocessing and classification.\n",
    "4. Evaluating the model's performance.\n"
   ]
  },
  {
   "metadata": {},
   "cell_type": "markdown",
   "source": [
    "## Extracting Features and Labels for Model Training\n",
    "\n",
    "To train the model, we separate:\n",
    "- **Features (`X`)**: The `tweet` text data, which will be transformed into numerical representations.\n",
    "- **Labels (`y`)**: The `label` column, representing sentiment (0 = Negative, 1 = Positive).\n",
    "\n",
    "This ensures that we can process the tweets while preserving their sentiment labels for supervised learning.\n"
   ]
  },
  {
   "metadata": {
    "ExecuteTime": {
     "end_time": "2025-03-08T14:48:09.469495Z",
     "start_time": "2025-03-08T14:48:09.457129Z"
    }
   },
   "cell_type": "code",
   "source": [
    "# Extract features (tweets) and labels (sentiment)\n",
    "X = train_tweets['tweet']  # Feature: text data\n",
    "y = train_tweets['label']  # Target: sentiment label\n",
    "\n",
    "# Ensure test dataset only contains tweets for predictions\n",
    "test = test_tweets['tweet']\n",
    "\n",
    "print(f\"Total Training Samples: {len(X)}\")\n",
    "print(f\"Total Test Samples: {len(test)}\")\n"
   ],
   "outputs": [
    {
     "name": "stdout",
     "output_type": "stream",
     "text": [
      "Total Training Samples: 31962\n",
      "Total Test Samples: 17197\n"
     ]
    }
   ],
   "execution_count": 39
  },
  {
   "metadata": {},
   "cell_type": "markdown",
   "source": [
    "## Splitting the Data\n",
    "\n",
    "Before training, we divide our dataset into:\n",
    "- **Training set (80%)** → Used to train the Naïve Bayes model.\n",
    "- **Test set (20%)** → Used to evaluate the model’s performance.\n",
    "\n",
    "Using `train_test_split()`, we ensure a fair distribution of positive and negative tweets in both sets.\n"
   ]
  },
  {
   "metadata": {
    "ExecuteTime": {
     "end_time": "2025-03-08T14:48:12.169746Z",
     "start_time": "2025-03-08T14:48:12.148888Z"
    }
   },
   "cell_type": "code",
   "source": [
    "from sklearn.model_selection import train_test_split\n",
    "\n",
    "# Split dataset into training and test sets (80%-20% split)\n",
    "msg_train, msg_test, label_train, label_test = train_test_split(X, y, test_size=0.2, random_state=42)\n",
    "\n",
    "# Print dataset sizes\n",
    "print(f\"Training Set Size: {len(msg_train)}\")\n",
    "print(f\"Test Set Size: {len(msg_test)}\")\n"
   ],
   "outputs": [
    {
     "name": "stdout",
     "output_type": "stream",
     "text": [
      "Training Set Size: 25569\n",
      "Test Set Size: 6393\n"
     ]
    }
   ],
   "execution_count": 40
  },
  {
   "metadata": {},
   "cell_type": "markdown",
   "source": [
    "## Implementing a Scikit-learn Pipeline for Text Classification\n",
    "\n",
    "A **machine learning pipeline** automates the preprocessing and classification steps. Our pipeline will:\n",
    "1. **Convert text into word frequency counts** using `CountVectorizer`.\n",
    "2. **Transform counts into TF-IDF scores** using `TfidfTransformer`.\n",
    "3. **Train a Naïve Bayes classifier** to learn sentiment patterns.\n",
    "\n",
    "This ensures our workflow is efficient and easy to reuse.\n"
   ]
  },
  {
   "metadata": {
    "ExecuteTime": {
     "end_time": "2025-03-08T14:48:29.915993Z",
     "start_time": "2025-03-08T14:48:15.230774Z"
    }
   },
   "cell_type": "code",
   "source": [
    "# Define the ML pipeline\n",
    "pipeline = Pipeline([\n",
    "    ('bow', CountVectorizer(analyzer=text_processing)),  # Convert text to word count vectors\n",
    "    ('tfidf', TfidfTransformer()),  # Convert word counts to TF-IDF scores\n",
    "    ('classifier', MultinomialNB()),  # Apply Naïve Bayes classifier\n",
    "])\n",
    "\n",
    "# Train the pipeline\n",
    "pipeline.fit(msg_train, label_train)\n",
    "\n",
    "# Enable better visualization\n",
    "set_config(display=\"text\")\n",
    "\n",
    "print(\"Pipeline successfully trained!\")\n"
   ],
   "outputs": [
    {
     "name": "stdout",
     "output_type": "stream",
     "text": [
      "Pipeline successfully trained!\n"
     ]
    }
   ],
   "execution_count": 41
  },
  {
   "metadata": {},
   "cell_type": "markdown",
   "source": [
    "## Visualizing the Pipeline\n",
    "\n",
    "To better understand our **ML workflow**, we can visualize the pipeline using **Graphviz**.\n",
    "\n",
    "This helps us see:\n",
    "- How text moves from **raw tweets → TF-IDF features → classification model**.\n",
    "- How each step contributes to sentiment classification.\n"
   ]
  },
  {
   "metadata": {
    "ExecuteTime": {
     "end_time": "2025-03-08T14:48:35.192973Z",
     "start_time": "2025-03-08T14:48:34.714128Z"
    }
   },
   "cell_type": "code",
   "source": [
    "def visualize_pipeline(pipeline):\n",
    "    dot = Digraph()\n",
    "\n",
    "    # Add each step as a node\n",
    "    for step_name, _ in pipeline.steps:\n",
    "        dot.node(step_name, label=step_name)\n",
    "\n",
    "    # Create edges between steps\n",
    "    for i in range(len(pipeline.steps) - 1):\n",
    "        dot.edge(pipeline.steps[i][0], pipeline.steps[i + 1][0])\n",
    "\n",
    "    return dot\n",
    "\n",
    "# Generate and save the pipeline diagram\n",
    "pipeline_diagram = visualize_pipeline(pipeline)\n",
    "pipeline_diagram.render(\"pipeline_diagram\", format=\"png\", cleanup=True)  # Save as PNG\n",
    "pipeline_diagram.view()  # Open the diagram\n"
   ],
   "outputs": [
    {
     "data": {
      "text/plain": [
       "'pipeline_diagram.pdf'"
      ]
     },
     "execution_count": 42,
     "metadata": {},
     "output_type": "execute_result"
    }
   ],
   "execution_count": 42
  },
  {
   "metadata": {},
   "cell_type": "markdown",
   "source": [
    "## Evaluating the Performance of the Sentiment Analysis Model\n",
    "\n",
    "To measure our model’s accuracy, we use:\n",
    "- **Classification Report** → Precision, Recall, and F1-score for each class.\n",
    "- **Confusion Matrix** → Breakdown of correct vs. incorrect predictions.\n",
    "- **Accuracy Score** → Overall performance measure.\n",
    "\n",
    "This evaluation helps us identify **model strengths and areas for improvement**.\n"
   ]
  },
  {
   "metadata": {
    "ExecuteTime": {
     "end_time": "2025-03-08T14:48:45.275298Z",
     "start_time": "2025-03-08T14:48:41.162749Z"
    }
   },
   "cell_type": "code",
   "source": [
    "# Make predictions on the test set\n",
    "predictions = pipeline.predict(msg_test)\n",
    "\n",
    "# Display evaluation metrics\n",
    "print(\"Classification Report:\\n\", classification_report(predictions, label_test))\n",
    "print(\"\\nConfusion Matrix:\\n\", confusion_matrix(predictions, label_test))\n",
    "print(\"\\nAccuracy Score:\", accuracy_score(predictions, label_test))\n"
   ],
   "outputs": [
    {
     "name": "stdout",
     "output_type": "stream",
     "text": [
      "Classification Report:\n",
      "               precision    recall  f1-score   support\n",
      "\n",
      "           0       1.00      0.94      0.97      6315\n",
      "           1       0.17      1.00      0.29        78\n",
      "\n",
      "    accuracy                           0.94      6393\n",
      "   macro avg       0.59      0.97      0.63      6393\n",
      "weighted avg       0.99      0.94      0.96      6393\n",
      "\n",
      "\n",
      "Confusion Matrix:\n",
      " [[5937  378]\n",
      " [   0   78]]\n",
      "\n",
      "Accuracy Score: 0.9408728296574378\n"
     ]
    }
   ],
   "execution_count": 43
  }
 ],
 "metadata": {
  "kernelspec": {
   "display_name": "Python 3",
   "language": "python",
   "name": "python3"
  },
  "language_info": {
   "codemirror_mode": {
    "name": "ipython",
    "version": 3
   },
   "file_extension": ".py",
   "mimetype": "text/x-python",
   "name": "python",
   "nbconvert_exporter": "python",
   "pygments_lexer": "ipython3",
   "version": "3.7.0"
  }
 },
 "nbformat": 4,
 "nbformat_minor": 2
}
